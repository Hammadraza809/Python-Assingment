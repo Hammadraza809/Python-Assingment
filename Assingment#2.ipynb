{
 "cells": [
  {
   "cell_type": "code",
   "execution_count": 18,
   "metadata": {},
   "outputs": [
    {
     "name": "stdout",
     "output_type": "stream",
     "text": [
      "Please enter English subject marks:\n",
      "40\n",
      "please enter Urdu subject marks:\n",
      "50\n",
      "Please enter math subject marks:\n",
      "30\n",
      "Please enter Islamiat subject marks:\n",
      "67\n",
      "Plese enter Computer subject marks:\n",
      "89\n",
      "Grade: D\n"
     ]
    }
   ],
   "source": [
    "english = int(input(\"Please enter English subject marks:\\n\"))\n",
    "urdu = int(input(\"please enter Urdu subject marks:\\n\"))\n",
    "math = int(input(\"Please enter math subject marks:\\n\"))\n",
    "islamiyat = int(input(\"Please enter Islamiat subject marks:\\n\"))\n",
    "computer= int(input(\"Plese enter Computer subject marks:\\n\"))\n",
    "avg = (english+urdu+math+islamiyat+computer)/5\n",
    "if(avg>=90):\n",
    "    print(\"Grade: A+\")\n",
    "elif (avg >=80 and avg <90):\n",
    "    print(\"Grade: A\")\n",
    "elif (avg >=70 and avg <80):\n",
    "    print(\"Grade: B\")\n",
    "elif (avg >=60 and avg <70):\n",
    "    print(\"Grade: C\")\n",
    "elif (avg >=50 and avg <60):\n",
    "    print(\"Grade: D\")\n",
    "else:\n",
    "    print(\"Fail.\")\n",
    "\n",
    "    "
   ]
  },
  {
   "cell_type": "code",
   "execution_count": 17,
   "metadata": {},
   "outputs": [
    {
     "name": "stdout",
     "output_type": "stream",
     "text": [
      "Please enter a nummber: 70\n",
      "Number is even!\n"
     ]
    }
   ],
   "source": [
    "userInput = int(input(\"Please enter a nummber: \"))\n",
    "if(userInput%2 == 0):\n",
    "    print(\"Number is even!\")\n",
    "else:\n",
    "    print(\"Number is odd!\")\n"
   ]
  },
  {
   "cell_type": "code",
   "execution_count": 6,
   "metadata": {},
   "outputs": [
    {
     "name": "stdout",
     "output_type": "stream",
     "text": [
      "9\n"
     ]
    }
   ],
   "source": [
    "intlist = [1,2,3,4,5,6,7,\"abc\",\"defg\"]\n",
    "print(str(len(intlist)))"
   ]
  },
  {
   "cell_type": "code",
   "execution_count": 9,
   "metadata": {},
   "outputs": [
    {
     "name": "stdout",
     "output_type": "stream",
     "text": [
      "45\n"
     ]
    }
   ],
   "source": [
    "intlist = [1,2,3,4,5,6,7,8,9]\n",
    "print(sum(intlist))"
   ]
  },
  {
   "cell_type": "code",
   "execution_count": 10,
   "metadata": {},
   "outputs": [
    {
     "name": "stdout",
     "output_type": "stream",
     "text": [
      "87\n"
     ]
    }
   ],
   "source": [
    "intlist = [5,45,65,87,20,70]\n",
    "print(max(intlist))"
   ]
  },
  {
   "cell_type": "code",
   "execution_count": 12,
   "metadata": {},
   "outputs": [
    {
     "name": "stdout",
     "output_type": "stream",
     "text": [
      "1\n",
      "1\n",
      "2\n",
      "3\n"
     ]
    }
   ],
   "source": [
    "a = [1,1,2,3,5,8,13,21,34,55,89]\n",
    "for i in a:\n",
    "    if i < 5:\n",
    "        print(i)\n"
   ]
  },
  {
   "cell_type": "code",
   "execution_count": null,
   "metadata": {
    "collapsed": true
   },
   "outputs": [],
   "source": []
  }
 ],
 "metadata": {
  "kernelspec": {
   "display_name": "Python 3",
   "language": "python",
   "name": "python3"
  },
  "language_info": {
   "codemirror_mode": {
    "name": "ipython",
    "version": 3
   },
   "file_extension": ".py",
   "mimetype": "text/x-python",
   "name": "python",
   "nbconvert_exporter": "python",
   "pygments_lexer": "ipython3",
   "version": "3.6.1"
  }
 },
 "nbformat": 4,
 "nbformat_minor": 2
}
