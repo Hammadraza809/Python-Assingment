{
 "cells": [
  {
   "cell_type": "code",
   "execution_count": 1,
   "metadata": {},
   "outputs": [
    {
     "name": "stdout",
     "output_type": "stream",
     "text": [
      "Object-oriented programming (OOP) is a programming language model in which programs are organized around data, or objects, rather than functions and logic. An object can be defined as a data field that has unique attributes and behavior.\n"
     ]
    }
   ],
   "source": [
    "#Q1\n",
    "print(\"Object-oriented programming (OOP) is a programming language model in which programs are organized around data, or objects, rather than functions and logic. An object can be defined as a data field that has unique attributes and behavior.\")"
   ]
  },
  {
   "cell_type": "code",
   "execution_count": 3,
   "metadata": {},
   "outputs": [
    {
     "name": "stdout",
     "output_type": "stream",
     "text": [
      "Benifits of OOP:\n",
      " 1)Code easy to understand.\n",
      " 2)Code can be reuse.\n",
      " 3)Faster development.\n",
      " 4)Easy to maintain code.\n"
     ]
    }
   ],
   "source": [
    "#Q2\n",
    "print(\"Benifits of OOP:\\n 1)Code easy to understand.\\n 2)Code can be reuse.\\n 3)Faster development.\\n 4)Easy to maintain code.\")"
   ]
  },
  {
   "cell_type": "code",
   "execution_count": 4,
   "metadata": {},
   "outputs": [
    {
     "name": "stdout",
     "output_type": "stream",
     "text": [
      "Function:\n",
      " Function is a peice of code that is written out of the class and is called by its name and parameters.\n",
      "Method:\n",
      " Method is a peice of code that is written with in a class and called with the object name associated with it.\n"
     ]
    }
   ],
   "source": [
    "#Q3\n",
    "print(\"Function:\\n Function is a peice of code that is written out of the class and is called by its name and parameters.\\n\"+\n",
    "     \"Method:\\n Method is a peice of code that is written with in a class and called with the object name associated with it.\")"
   ]
  },
  {
   "cell_type": "code",
   "execution_count": 5,
   "metadata": {},
   "outputs": [
    {
     "name": "stdout",
     "output_type": "stream",
     "text": [
      "Class:\n",
      " Class is a blue print for creating objects in programe.\n",
      "Object:\n",
      " Object are the things that stores some code or values in it.\n",
      "Attribute:\n",
      " Attributes are data stored inside a class or instance and represent the state or quality of the class or instance.\n",
      "Behavior:\n",
      " Behavior is that how the class will react. according to its parameters and methods.\n"
     ]
    }
   ],
   "source": [
    "#Q4\n",
    "print(\"Class:\\n Class is a blue print for creating objects in programe.\")\n",
    "print(\"Object:\\n Object are the things that stores some code or values in it.\")\n",
    "print(\"Attribute:\\n Attributes are data stored inside a class or instance and represent the state or quality of the class or instance.\")\n",
    "print(\"Behavior:\\n Behavior is that how the class will react. according to its parameters and methods.\")"
   ]
  },
  {
   "cell_type": "code",
   "execution_count": 10,
   "metadata": {},
   "outputs": [
    {
     "name": "stdout",
     "output_type": "stream",
     "text": [
      "--Car--\n",
      "Car name is Civic\n",
      "Car model is 2010\n",
      "Car hourse power is 197\n",
      "This car has Alloy rims\n",
      "--Car--\n",
      "Car name is City\n",
      "Car model is 2015\n",
      "Car hourse power is 197\n",
      "This car has Normal rims\n",
      "--Car--\n",
      "Car name is Corolla\n",
      "Car model is 2019\n",
      "Car hourse power is 197\n",
      "This car has Alloy rims\n",
      "--Car--\n",
      "Car name is WagonR\n",
      "Car model is 2001\n",
      "Car hourse power is 197\n",
      "This car has Normal rims\n",
      "--Car--\n",
      "Car name is Cultus\n",
      "Car model is 2003\n",
      "Car hourse power is 197\n",
      "This car has Alloy rims\n"
     ]
    }
   ],
   "source": [
    "#Q5\n",
    "class car():\n",
    "    def __init__(self,name,model,color,hp,rims):\n",
    "        self.name = name\n",
    "        self.model = model\n",
    "        self.color = color\n",
    "        self.hp = hp\n",
    "        self.rims = rims\n",
    "        \n",
    "    def carDetail(self):\n",
    "        print(\"Car name is {}\\nCar model is {}\".format(self.name,self.model))\n",
    "        \n",
    "    def carPower(self):\n",
    "        print(\"Car hourse power is {}\".format(self.hp))\n",
    "        \n",
    "    def carTyres(self):\n",
    "        print(\"This car has {} rims\".format(self.rims))\n",
    "        \n",
    "print(\"--Car--\")        \n",
    "car1 = car(\"Civic\",\"2010\",\"Black\",\"197\",\"Alloy\")\n",
    "car1.carDetail()\n",
    "car1.carPower()\n",
    "car1.carTyres()\n",
    "print(\"--Car--\")\n",
    "car2 = car(\"City\",\"2015\",\"Blue\",\"197\",\"Normal\")\n",
    "car2.carDetail()\n",
    "car2.carPower()\n",
    "car2.carTyres()\n",
    "print(\"--Car--\")\n",
    "car3 = car(\"Corolla\",\"2019\",\"Grey\",\"197\",\"Alloy\")\n",
    "car3.carDetail()\n",
    "car3.carPower()\n",
    "car3.carTyres()\n",
    "print(\"--Car--\")\n",
    "car4 = car(\"WagonR\",\"2001\",\"Red\",\"197\",\"Normal\")\n",
    "car4.carDetail()\n",
    "car4.carPower()\n",
    "car4.carTyres()\n",
    "print(\"--Car--\")\n",
    "car5 = car(\"Cultus\",\"2003\",\"Silver\",\"197\",\"Alloy\")\n",
    "car5.carDetail()\n",
    "car5.carPower()\n",
    "car5.carTyres()\n"
   ]
  },
  {
   "cell_type": "code",
   "execution_count": null,
   "metadata": {
    "collapsed": true
   },
   "outputs": [],
   "source": []
  }
 ],
 "metadata": {
  "kernelspec": {
   "display_name": "Python 3",
   "language": "python",
   "name": "python3"
  },
  "language_info": {
   "codemirror_mode": {
    "name": "ipython",
    "version": 3
   },
   "file_extension": ".py",
   "mimetype": "text/x-python",
   "name": "python",
   "nbconvert_exporter": "python",
   "pygments_lexer": "ipython3",
   "version": "3.6.1"
  }
 },
 "nbformat": 4,
 "nbformat_minor": 2
}
