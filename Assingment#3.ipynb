{
 "cells": [
  {
   "cell_type": "code",
   "execution_count": 6,
   "metadata": {},
   "outputs": [
    {
     "name": "stdout",
     "output_type": "stream",
     "text": [
      "Enter first number: 2\n",
      "Enter second numbber: 6\n",
      "Enter Operator (+,-,*,/,**): **\n",
      "64\n"
     ]
    }
   ],
   "source": [
    "num1 = int(input(\"Enter first number: \"))\n",
    "num2 = int(input(\"Enter second numbber: \"))\n",
    "oper = input(\"Enter Operator (+,-,*,/,**): \")\n",
    "if oper == \"+\":\n",
    "    print(num1 + num2)\n",
    "elif oper == \"-\":\n",
    "    print(num1 - num2)\n",
    "elif oper == \"*\":\n",
    "    print(num1 * num2)\n",
    "elif oper ==\"/\":\n",
    "    print(num1 / num2)\n",
    "elif oper == \"**\":\n",
    "    print(num1 ** num2)\n"
   ]
  },
  {
   "cell_type": "code",
   "execution_count": 21,
   "metadata": {},
   "outputs": [
    {
     "name": "stdout",
     "output_type": "stream",
     "text": [
      "['1', '2', '3', '5', '4', '7', '8', '9']\n"
     ]
    }
   ],
   "source": [
    "aList = [\"1\",\"hammad\",\"2\",\"3\",\"python\",\"5\",\"x\",\"y\",\"z\",\"4\",\"7\",\"8\",\"9\"]\n",
    "numList = []\n",
    "for each_item in aList:\n",
    "    if each_item.isdigit():\n",
    "        numList.append(each_item)\n",
    "print(numList)"
   ]
  },
  {
   "cell_type": "code",
   "execution_count": 18,
   "metadata": {},
   "outputs": [
    {
     "name": "stdout",
     "output_type": "stream",
     "text": [
      "{'name': 'hammad', 'address': 'korangi', 'course': 'python', 'last name': 'raza'}\n"
     ]
    }
   ],
   "source": [
    "dictionary = {\"name\":\"hammad\",\n",
    "             \"address\":\"korangi\",\n",
    "             \"course\":\"python\"}\n",
    "dictionary[\"last name\"] = \"raza\" \n",
    "print(dictionary)"
   ]
  },
  {
   "cell_type": "code",
   "execution_count": 20,
   "metadata": {},
   "outputs": [
    {
     "name": "stdout",
     "output_type": "stream",
     "text": [
      "12\n"
     ]
    }
   ],
   "source": [
    "numDictionary = {\"num1\":2,\n",
    "                \"num2\":4,\n",
    "                \"num3\":6}\n",
    "summ = 0\n",
    "for i in numDictionary:\n",
    "    summ = summ+numDictionary[i]\n",
    "print(summ)"
   ]
  },
  {
   "cell_type": "code",
   "execution_count": 19,
   "metadata": {},
   "outputs": [
    {
     "name": "stdout",
     "output_type": "stream",
     "text": [
      "['raza', 'hammad']\n"
     ]
    }
   ],
   "source": [
    "myList = [\"hammad\",\"raza\",\"raza\",\"hammad\",\"abc\"]\n",
    "newList = []\n",
    "for items in myList:\n",
    "    if items not in newList:\n",
    "        newList.append(items)\n",
    "        myList.remove(items)\n",
    "print(myList)"
   ]
  },
  {
   "cell_type": "code",
   "execution_count": 9,
   "metadata": {},
   "outputs": [
    {
     "name": "stdout",
     "output_type": "stream",
     "text": [
      "Enter a key: name\n",
      "Key already exits!\n"
     ]
    }
   ],
   "source": [
    "dictionary = {\"name\":\"hammad\",\n",
    "             \"address\":\"korangi\",\n",
    "             \"course\":\"python\"}\n",
    "key = input(\"Enter a key: \")\n",
    "if key in dictionary.keys():\n",
    "    print(\"Key already exits!\")\n",
    "else:\n",
    "    print(\"key does not exits!\")\n",
    "    "
   ]
  },
  {
   "cell_type": "code",
   "execution_count": null,
   "metadata": {
    "collapsed": true
   },
   "outputs": [],
   "source": []
  }
 ],
 "metadata": {
  "kernelspec": {
   "display_name": "Python 3",
   "language": "python",
   "name": "python3"
  },
  "language_info": {
   "codemirror_mode": {
    "name": "ipython",
    "version": 3
   },
   "file_extension": ".py",
   "mimetype": "text/x-python",
   "name": "python",
   "nbconvert_exporter": "python",
   "pygments_lexer": "ipython3",
   "version": "3.6.1"
  }
 },
 "nbformat": 4,
 "nbformat_minor": 2
}
