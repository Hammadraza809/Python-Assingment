{
 "cells": [
  {
   "cell_type": "code",
   "execution_count": 4,
   "metadata": {},
   "outputs": [
    {
     "name": "stdout",
     "output_type": "stream",
     "text": [
      "Enter a positive number only:\n",
      "6\n",
      "720\n"
     ]
    }
   ],
   "source": [
    "#QNo1\n",
    "def factorail(num):\n",
    "    if num == 0 or num == 1:\n",
    "        return num\n",
    "    else:\n",
    "        return num * factorail(num-1)\n",
    "num = int(input(\"Enter a positive number only:\\n\"))\n",
    "fun=factorail(num)\n",
    "print(fun)"
   ]
  },
  {
   "cell_type": "code",
   "execution_count": 10,
   "metadata": {},
   "outputs": [
    {
     "name": "stdout",
     "output_type": "stream",
     "text": [
      "Enter a string: \n",
      "Hammad Raza\n",
      "Capital letters: 2\n",
      "Small letters: 8\n"
     ]
    }
   ],
   "source": [
    "#QNo2\n",
    "def string_calculator(string):\n",
    "    u_c = 0\n",
    "    l_c = 0\n",
    "    for case_study in string:\n",
    "        if case_study.isupper():\n",
    "            u_c = u_c + 1\n",
    "        elif case_study.islower():\n",
    "            l_c = l_c + 1\n",
    "    print(\"Capital letters: \"+str(u_c))\n",
    "    print(\"Small letters: \"+str(l_c))\n",
    "    \n",
    "string = input(\"Enter a string: \\n\")\n",
    "string_calculator(string)"
   ]
  },
  {
   "cell_type": "code",
   "execution_count": 15,
   "metadata": {},
   "outputs": [
    {
     "name": "stdout",
     "output_type": "stream",
     "text": [
      "Enter number of Elements: \n",
      "5\n",
      "Enter Element: \n",
      "2\n",
      "Enter Element: \n",
      "5\n",
      "Enter Element: \n",
      "7\n",
      "Enter Element: \n",
      "8\n",
      "Enter Element: \n",
      "12\n",
      "Even Numbers: [2, 8, 12]\n"
     ]
    }
   ],
   "source": [
    "#Qno3\n",
    "def even_number(lisst):\n",
    "    en_list = []\n",
    "    for no in lisst:\n",
    "        if no % 2 == 0:\n",
    "            en_list.append(no)\n",
    "    print(\"Even Numbers: \"+str(en_list))\n",
    "    \n",
    "lisst = []\n",
    "n = int(input(\"Enter number of Elements: \\n\"))\n",
    "for i in range(0,n):\n",
    "    element = int(input(\"Enter Element: \\n\"))\n",
    "    lisst.append(element)\n",
    "\n",
    "even_number(lisst)"
   ]
  },
  {
   "cell_type": "code",
   "execution_count": 23,
   "metadata": {},
   "outputs": [
    {
     "name": "stdout",
     "output_type": "stream",
     "text": [
      "Enter a string:\n",
      "hammad\n",
      "Not A Palindrome!\n"
     ]
    }
   ],
   "source": [
    "#QNo4\n",
    "def palindrome(string):\n",
    "    rev = string[::-1]\n",
    "    if(string == rev):\n",
    "        print(\"A Palindrome!\")\n",
    "    else:\n",
    "        print(\"Not A Palindrome!\")\n",
    "        \n",
    "string = input(\"Enter a string:\\n\")\n",
    "palindrome(string)"
   ]
  },
  {
   "cell_type": "code",
   "execution_count": 40,
   "metadata": {},
   "outputs": [
    {
     "name": "stdout",
     "output_type": "stream",
     "text": [
      "Enter a positive no: \n",
      "11\n",
      "A Prime Number!\n"
     ]
    }
   ],
   "source": [
    "#QNo5\n",
    "def prime_no(no):\n",
    "    if no > 1:\n",
    "        for i in range(2,no):\n",
    "            if (no%i) == 0:\n",
    "                print(\"Not a Prime Number!\")\n",
    "                break\n",
    "                return\n",
    "        else:\n",
    "            print(\"A Prime Number!\")\n",
    "                \n",
    "no = int(input(\"Enter a positive no: \\n\"))\n",
    "prime_no(no)"
   ]
  },
  {
   "cell_type": "code",
   "execution_count": 42,
   "metadata": {},
   "outputs": [
    {
     "name": "stdout",
     "output_type": "stream",
     "text": [
      "vegetables\n",
      "apples\n",
      "banana\n",
      "oranges\n"
     ]
    }
   ],
   "source": [
    "#QNo6\n",
    "def shopping_list(*items):\n",
    "    for item in items:\n",
    "        print(item)\n",
    "        \n",
    "shopping_list(\"vegetables\",\"apples\",\"banana\",\"oranges\")"
   ]
  },
  {
   "cell_type": "code",
   "execution_count": null,
   "metadata": {
    "collapsed": true
   },
   "outputs": [],
   "source": []
  }
 ],
 "metadata": {
  "kernelspec": {
   "display_name": "Python 3",
   "language": "python",
   "name": "python3"
  },
  "language_info": {
   "codemirror_mode": {
    "name": "ipython",
    "version": 3
   },
   "file_extension": ".py",
   "mimetype": "text/x-python",
   "name": "python",
   "nbconvert_exporter": "python",
   "pygments_lexer": "ipython3",
   "version": "3.6.1"
  }
 },
 "nbformat": 4,
 "nbformat_minor": 2
}
