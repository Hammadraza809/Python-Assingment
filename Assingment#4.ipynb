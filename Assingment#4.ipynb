{
 "cells": [
  {
   "cell_type": "code",
   "execution_count": 4,
   "metadata": {},
   "outputs": [
    {
     "name": "stdout",
     "output_type": "stream",
     "text": [
      "{'f_name': 'Hammad', 'l_name': 'Raza', 'age': 22, 'city': 'Karachi'}\n",
      "Hammad\n",
      "Raza\n",
      "22\n",
      "Karachi\n"
     ]
    }
   ],
   "source": [
    "#Question No 1\n",
    "person = {\n",
    "    \"f_name\":\"Hammad\",\n",
    "    \"l_name\":\"Raza\",\n",
    "    \"age\":22,\n",
    "    \"city\":\"Karachi\"\n",
    "}\n",
    "print(person)\n",
    "print(person[\"f_name\"])\n",
    "print(person[\"l_name\"])\n",
    "print(person[\"age\"])\n",
    "print(person[\"city\"])"
   ]
  },
  {
   "cell_type": "code",
   "execution_count": 8,
   "metadata": {},
   "outputs": [
    {
     "name": "stdout",
     "output_type": "stream",
     "text": [
      "{'f_name': 'Hammad', 'l_name': 'Raza', 'age': 22, 'city': 'Karachi'}\n",
      "Hammad\n",
      "Raza\n",
      "22\n",
      "Karachi\n",
      "{'f_name': 'Hammad', 'l_name': 'Raza', 'age': 22, 'city': 'Karachi', 'qualification': 'High Academic Level'}\n"
     ]
    }
   ],
   "source": [
    "#Question No 1 (Adding new key value pair)\n",
    "person = {\n",
    "    \"f_name\":\"Hammad\",\n",
    "    \"l_name\":\"Raza\",\n",
    "    \"age\":22,\n",
    "    \"city\":\"Karachi\"\n",
    "}\n",
    "print(person)\n",
    "print(person[\"f_name\"])\n",
    "print(person[\"l_name\"])\n",
    "print(person[\"age\"])\n",
    "print(person[\"city\"])\n",
    "person[\"qualification\"]=\"High Academic Level\"\n",
    "print(person)"
   ]
  },
  {
   "cell_type": "code",
   "execution_count": 10,
   "metadata": {},
   "outputs": [
    {
     "name": "stdout",
     "output_type": "stream",
     "text": [
      "{'f_name': 'Hammad', 'l_name': 'Raza', 'age': 22, 'city': 'Karachi'}\n",
      "Hammad\n",
      "Raza\n",
      "22\n",
      "Karachi\n",
      "{'f_name': 'Hammad', 'l_name': 'Raza', 'age': 22, 'city': 'Karachi', 'qualification': 'High Academic Level'}\n",
      "{'f_name': 'Hammad', 'l_name': 'Raza', 'age': 22, 'city': 'Karachi'}\n"
     ]
    }
   ],
   "source": [
    "#Question No 1 (Deleting new key value pair)\n",
    "person = {\n",
    "    \"f_name\":\"Hammad\",\n",
    "    \"l_name\":\"Raza\",\n",
    "    \"age\":22,\n",
    "    \"city\":\"Karachi\"\n",
    "}\n",
    "print(person)\n",
    "print(person[\"f_name\"])\n",
    "print(person[\"l_name\"])\n",
    "print(person[\"age\"])\n",
    "print(person[\"city\"])\n",
    "person[\"qualification\"]=\"High Academic Level\"\n",
    "print(person)\n",
    "del person[\"qualification\"]\n",
    "print(person)"
   ]
  },
  {
   "cell_type": "code",
   "execution_count": 40,
   "metadata": {},
   "outputs": [
    {
     "name": "stdout",
     "output_type": "stream",
     "text": [
      "karachi\n",
      "{'country': 'Pakistan', 'Approx Population': '16.62M', 'Fact': \"Called 'City of Lights'\"}\n",
      "{'country': 'Canada', 'Approx Population': '1.3M', 'Fact': 'Capital of canada'}\n",
      "{'country': 'USA', 'Approx Population': '5.7M', 'Fact': 'Capital of USA'}\n",
      "Ottawa\n",
      "{'country': 'Pakistan', 'Approx Population': '16.62M', 'Fact': \"Called 'City of Lights'\"}\n",
      "{'country': 'Canada', 'Approx Population': '1.3M', 'Fact': 'Capital of canada'}\n",
      "{'country': 'USA', 'Approx Population': '5.7M', 'Fact': 'Capital of USA'}\n",
      "Washington DC\n",
      "{'country': 'Pakistan', 'Approx Population': '16.62M', 'Fact': \"Called 'City of Lights'\"}\n",
      "{'country': 'Canada', 'Approx Population': '1.3M', 'Fact': 'Capital of canada'}\n",
      "{'country': 'USA', 'Approx Population': '5.7M', 'Fact': 'Capital of USA'}\n"
     ]
    }
   ],
   "source": [
    "#Question No 2\n",
    "cities = {\n",
    "    \"karachi\" :{\n",
    "        \"country\":\"Pakistan\",\n",
    "        \"Approx Population\":\"16.62M\",\n",
    "        \"Fact\":\"Called 'City of Lights'\"\n",
    "    },\n",
    "    \"Ottawa\":{\n",
    "        \"country\":\"Canada\",\n",
    "        \"Approx Population\":\"1.3M\",\n",
    "        \"Fact\":\"Capital of canada\"\n",
    "    },\n",
    "    \"Washington DC\":{\n",
    "        \"country\":\"USA\",\n",
    "        \"Approx Population\":\"5.7M\",\n",
    "        \"Fact\":\"Capital of USA\"\n",
    "    }\n",
    "}\n",
    "for city in cities.keys():\n",
    "    print(city)\n",
    "    for detail in cities.values():\n",
    "        print(detail)\n"
   ]
  },
  {
   "cell_type": "code",
   "execution_count": 3,
   "metadata": {},
   "outputs": [
    {
     "name": "stdout",
     "output_type": "stream",
     "text": [
      "What is your age?\n",
      " 1)under 3?\n",
      " 2)Over 3 and under 12?\n",
      " 3)Over 12?\n",
      " Press 0 to exit.\n",
      "20\n",
      "price for you is $15\n",
      "What is your age?\n",
      " 1)under 3?\n",
      " 2)Over 3 and under 12?\n",
      " 3)Over 12?\n",
      " Press 0 to exit.\n",
      "10\n",
      "$10 for you.!\n",
      "What is your age?\n",
      " 1)under 3?\n",
      " 2)Over 3 and under 12?\n",
      " 3)Over 12?\n",
      " Press 0 to exit.\n",
      "0\n",
      "Thank You!\n"
     ]
    }
   ],
   "source": [
    "#Question No 3\n",
    "flag = True\n",
    "while(flag):\n",
    "    age = int(input(\"What is your age?\\n 1)under 3?\\n 2)Over 3 and under 12?\\n 3)Over 12?\\n Press 0 to exit.\\n\"))\n",
    "    if age > 0 and age < 3:\n",
    "        print(\"No price for you.! Enjoy your movie.!\\n\")\n",
    "    elif age >= 3 and age <=12:\n",
    "        print(\"$10 for you.!\\n\")\n",
    "    elif age >12:\n",
    "        print(\"price for you is $15.\\n\")\n",
    "    elif age == 0:\n",
    "        print(\"Thank You!\")\n",
    "        flag = False"
   ]
  },
  {
   "cell_type": "code",
   "execution_count": 5,
   "metadata": {},
   "outputs": [
    {
     "name": "stdout",
     "output_type": "stream",
     "text": [
      "One of my favorite book is Alice in Wonderland\n",
      "One of my favorite book is Al-chemist\n"
     ]
    }
   ],
   "source": [
    "#Question No 4\n",
    "def fav_book(title):\n",
    "    print(\"One of my favorite book is \"+title)\n",
    "fav_book(\"Alice in Wonderland\")\n",
    "fav_book(\"Al-chemist\")"
   ]
  },
  {
   "cell_type": "code",
   "execution_count": 3,
   "metadata": {},
   "outputs": [
    {
     "name": "stdout",
     "output_type": "stream",
     "text": [
      "Please Enter a random number.\n",
      "12\n",
      "You guess a low number!\n",
      "Please Enter a random number.\n",
      "15\n",
      "You guess a low number!\n",
      "Please Enter a random number.\n",
      "10\n",
      "You guess a low number!\n"
     ]
    }
   ],
   "source": [
    "#Question No 5\n",
    "from random import randrange\n",
    "randomNumber = (randrange(1,30))\n",
    "count = 3\n",
    "while(count!=0):\n",
    "    userinput = int(input(\"Please Enter a random number.\\n\"))\n",
    "    if(randomNumber < userinput):\n",
    "        print(\"You guess a high number!\")   \n",
    "    elif(randomNumber > userinput):\n",
    "        print(\"You guess a low number!\")\n",
    "    else:\n",
    "        print(\"Great! You guessed the exact number!\")\n",
    "        break\n",
    "    count-=1"
   ]
  },
  {
   "cell_type": "code",
   "execution_count": null,
   "metadata": {
    "collapsed": true
   },
   "outputs": [],
   "source": []
  }
 ],
 "metadata": {
  "kernelspec": {
   "display_name": "Python 3",
   "language": "python",
   "name": "python3"
  },
  "language_info": {
   "codemirror_mode": {
    "name": "ipython",
    "version": 3
   },
   "file_extension": ".py",
   "mimetype": "text/x-python",
   "name": "python",
   "nbconvert_exporter": "python",
   "pygments_lexer": "ipython3",
   "version": "3.6.1"
  }
 },
 "nbformat": 4,
 "nbformat_minor": 2
}
